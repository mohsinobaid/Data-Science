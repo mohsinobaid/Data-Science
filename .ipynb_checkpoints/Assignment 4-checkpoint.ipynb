{
 "cells": [
  {
   "cell_type": "markdown",
   "metadata": {},
   "source": [
    "# Assignment 4 - Classifier\n",
    "\n",
    "Note: Sorry i missed your class when you were explaining the assignment 4. \n",
    "I had to make a few assumptions to complete the work.\n",
    "\n",
    "## Q1. Use a Neural Network for the implementation of AND and OR functions by using R or Python languages.\n",
    "\n",
    "### AND Function"
   ]
  },
  {
   "cell_type": "markdown",
   "metadata": {},
   "source": [
    "Assumption 1: The Neural Network is just one Perceptron where the inputs get multiplied by the weights and sent through a sigmoid activation funtion"
   ]
  },
  {
   "cell_type": "code",
   "execution_count": 61,
   "metadata": {},
   "outputs": [
    {
     "name": "stdout",
     "output_type": "stream",
     "text": [
      "input AND OR\n",
      "[0 0] 0   0\n",
      "[0 1] 0   1\n",
      "[1 0] 0   1\n",
      "[1 1] 1   1\n"
     ]
    }
   ],
   "source": [
    "import numpy as np\n",
    "\n",
    "#w1=1, w2=1, b=1.5\n",
    "def perceptronAND(inputs):\n",
    "    \n",
    "    y_temp = inputs[0]*1 + inputs[1]*1 -1.5\n",
    "    return activation(y_temp) \n",
    "     \n",
    "#w1=1, w2=1, b=0.5\n",
    "def perceptronOR(inputs):\n",
    "    \n",
    "    y_temp = inputs[0]*1 + inputs[1]*1 -0.5\n",
    "    return activation(y_temp)\n",
    "\n",
    "def activation(x):\n",
    "    if x>=0.5:\n",
    "        return 1\n",
    "    return 0\n",
    "\n",
    "print(\"input AND OR\")\n",
    "\n",
    "for x in [np.array([0,0]), np.array([0,1]), np.array([1,0]), np.array([1,1])]:\n",
    "    y = perceptronAND(np.array(x))\n",
    "    z = perceptronOR(np.array(x))\n",
    "    print(x, y, ' ',z)\n"
   ]
  },
  {
   "cell_type": "markdown",
   "metadata": {},
   "source": [
    "### Q2. Please answer the following questions related to SVM\n",
    "#### 1. In SVM what is the meaning of margin? Which are the equationsof the two margin Hyperplanes H+ and H-?\n",
    "\n",
    "A margin is the distance from the decision surface to the closest data point.\n",
    "SVM's attempt to maximize this margin.\n",
    "\n",
    "The two hyperplanes H1 and H2 are:\n",
    "\n",
    "$H1:wx_i+b=+1$\n",
    "\n",
    "$H2:wx_i+b=-1$\n",
    "\n",
    "The points on the planes are the tipcs of the support Vectors.\n",
    "\n",
    "#### 2. Consider the three linearly separable two-dimensional input vectors in the following figure. Find the linear SVM that optimally separates the classes by maximizing the margin.\n",
    "\n",
    "Assumption 2: That we just point out the function that appears to be allready drawn.\n",
    "\n",
    "In this situation, all 3 points are support vectors. H+ is the line ontop of the two plus signs and H- is parallel to it and touching the negative sign. The decision boundary is thus halfway between the two margin hyperplanes.\n",
    "$-x+2=0$\n",
    "\n",
    "\n",
    "#### 3. What is a kernel function\n",
    "\n",
    "It is a method of using a linear classifier to solve a non-linear problem. The Kernel function gets applied to the data in order to map it from non-linear into a higher dimensional space where they become separable."
   ]
  },
  {
   "cell_type": "markdown",
   "metadata": {},
   "source": [
    "### Q3. Compare Neural Network and SVM in Classification of heart disease data set in R or Python\n",
    "\n",
    "Assumption 3: That we have to implement it in python\n",
    "\n",
    "\n",
    "##### Looking back at the Neural Network results:\n",
    "Accuracy Logistic Regression --> 0.855 \n",
    "MAE Logistic Regression --> 0.155 \n",
    "Accuracy Artificial NN --> 0.86\n",
    "MAE Artificial NN --> 0.144\n",
    "\n",
    "Lets try to run an SVM on the same data."
   ]
  },
  {
   "cell_type": "code",
   "execution_count": 198,
   "metadata": {},
   "outputs": [
    {
     "name": "stdout",
     "output_type": "stream",
     "text": [
      "[[52  1]\n",
      " [35  2]]\n",
      "             precision    recall  f1-score   support\n",
      "\n",
      "          0       0.60      0.98      0.74        53\n",
      "          1       0.67      0.05      0.10        37\n",
      "\n",
      "avg / total       0.63      0.60      0.48        90\n",
      "\n",
      "0.6\n"
     ]
    },
    {
     "name": "stderr",
     "output_type": "stream",
     "text": [
      "c:\\python35\\lib\\site-packages\\ipykernel_launcher.py:27: FutureWarning: set_value is deprecated and will be removed in a future release. Please use .at[] or .iat[] accessors instead\n",
      "c:\\python35\\lib\\site-packages\\ipykernel_launcher.py:31: FutureWarning: set_value is deprecated and will be removed in a future release. Please use .at[] or .iat[] accessors instead\n"
     ]
    }
   ],
   "source": [
    "#CODE RE-USED FROM PREVIOUS ASSIGNMENT --> SKIP TO 'NEW CODE' LINE =======================================\n",
    "import numpy as np\n",
    "import pandas as pd\n",
    "import matplotlib.pyplot as plt\n",
    "from sklearn.model_selection import train_test_split\n",
    "from sklearn import svm\n",
    "from sklearn.linear_model import LogisticRegression\n",
    "from sklearn.metrics import classification_report, confusion_matrix, accuracy_score\n",
    "from sklearn.svm import SVC\n",
    "\n",
    "url=\"https://archive.ics.uci.edu/ml/machine-learning-databases/heart-disease/processed.cleveland.data\"\n",
    "missing_values = [\"?\", \"n/a\", \"--\"]\n",
    "heartData_uncleaned = pd.read_csv(url, na_values=missing_values, header=None)\n",
    "heartData_uncleaned = pd.DataFrame(heartData_uncleaned)\n",
    "heartData_uncleaned = heartData_uncleaned.set_axis([\"age\", \"sex\", \"cp\", \"trestbps\", \"chol\", \"fbs\", \"restecg\", \"thalach\", \"exang\", \"oldpeak\", \"slope\", \"ca\", \"thal\", \"num\"], axis='columns', inplace=False)\n",
    "heartData = heartData_uncleaned.dropna()\n",
    "train, test = train_test_split(heartData, test_size=0.3)\n",
    "X_train = train.iloc[:,0:13]\n",
    "y_train = train.iloc[:,-1]\n",
    "X_test = test.iloc[:,0:13]\n",
    "y_test = test.iloc[:,-1]\n",
    "train_binary = train.copy()\n",
    "test_binary = test.copy()\n",
    "for index, row in train_binary.iterrows():\n",
    "    ifor_val = 1;\n",
    "    if row['num'] != 0:\n",
    "        train_binary.set_value(index, 'num', ifor_val)\n",
    "for index, row in test_binary.iterrows():\n",
    "    ifor_val = 1;\n",
    "    if row['num'] != 0:\n",
    "        test_binary.set_value(index, 'num', ifor_val)\n",
    "X_train_binary = train_binary.iloc[:,0:13]\n",
    "y_train_binary = train_binary.iloc[:,-1]\n",
    "X_test_binary = test_binary.iloc[:,0:13]\n",
    "y_test_binary = test_binary.iloc[:,-1]\n",
    "\n",
    "\n",
    "#NEW CODE ==================================================================================================\n",
    "y_train_binary_df = pd.DataFrame(data = y_train_binary).astype(float)\n",
    "logregBinary = LogisticRegression().fit(X_train_binary, y_train_binary)\n",
    "\n",
    "clf = svm.SVC()\n",
    "clf.fit(X_train_binary, y_train_binary_df)\n",
    "\n",
    "y_pred = clf.predict(X_test_binary)\n",
    "print(confusion_matrix(y_test_binary, y_pred))\n",
    "print(classification_report(y_test_binary, y_pred))\n",
    "print(accuracy_score(y_test_binary, y_pred))"
   ]
  },
  {
   "cell_type": "markdown",
   "metadata": {},
   "source": [
    "## That was linear SVM. It got an accuracy of 0.6\n",
    "## Lets try non-linear with C=5"
   ]
  },
  {
   "cell_type": "code",
   "execution_count": 187,
   "metadata": {},
   "outputs": [
    {
     "data": {
      "text/plain": [
       "SVC(C=5.0, cache_size=200, class_weight=None, coef0=0.0,\n",
       "  decision_function_shape='ovr', degree=8, gamma='auto', kernel='poly',\n",
       "  max_iter=-1, probability=False, random_state=None, shrinking=True,\n",
       "  tol=0.001, verbose=False)"
      ]
     },
     "execution_count": 187,
     "metadata": {},
     "output_type": "execute_result"
    }
   ],
   "source": [
    "clfp = SVC(kernel='poly', degree=8, C=5.0)  \n",
    "clfp.fit(X_train_binary, y_train_binary) "
   ]
  },
  {
   "cell_type": "code",
   "execution_count": 188,
   "metadata": {},
   "outputs": [],
   "source": [
    "y_pred = clfp.predict(X_test_binary)"
   ]
  },
  {
   "cell_type": "code",
   "execution_count": 189,
   "metadata": {},
   "outputs": [
    {
     "name": "stdout",
     "output_type": "stream",
     "text": [
      "[[42 12]\n",
      " [ 7 29]]\n",
      "             precision    recall  f1-score   support\n",
      "\n",
      "          0       0.86      0.78      0.82        54\n",
      "          1       0.71      0.81      0.75        36\n",
      "\n",
      "avg / total       0.80      0.79      0.79        90\n",
      "\n",
      "0.7888888888888889\n"
     ]
    }
   ],
   "source": [
    "print(confusion_matrix(y_test_binary, y_pred))\n",
    "print(classification_report(y_test_binary, y_pred))\n",
    "print(accuracy_score(y_test_binary, y_pred))"
   ]
  },
  {
   "cell_type": "markdown",
   "metadata": {},
   "source": [
    "We get a very similar accuracy.\n",
    "\n",
    "Accuracy Artificial NN --> 0.86\n",
    "\n",
    "SVM = 0.78\n",
    "\n",
    "I think with some tweaking, the value can go higher. However, the SVM algorithm suffers from the curse of dimensionality."
   ]
  }
 ],
 "metadata": {
  "kernelspec": {
   "display_name": "Python 3",
   "language": "python",
   "name": "python3"
  },
  "language_info": {
   "codemirror_mode": {
    "name": "ipython",
    "version": 3
   },
   "file_extension": ".py",
   "mimetype": "text/x-python",
   "name": "python",
   "nbconvert_exporter": "python",
   "pygments_lexer": "ipython3",
   "version": "3.5.3"
  }
 },
 "nbformat": 4,
 "nbformat_minor": 2
}
