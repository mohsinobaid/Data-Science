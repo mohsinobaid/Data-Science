{
 "cells": [
  {
   "cell_type": "code",
   "execution_count": 6,
   "metadata": {},
   "outputs": [],
   "source": [
    "import numpy as np\n",
    "class Neural_Network():\n",
    "    \n",
    "    def __init__(self):\n",
    "        np.random.seed(34)\n",
    "        \n",
    "        self.synaptic_weights = 2 * np.random.random((2,1)) -1\n",
    "        \n",
    "        bias = 0.5\n",
    "        \n",
    "    def sigmoid(self, x):\n",
    "        return 1/(1+np.exp(-x))\n",
    "    \n",
    "    def sigmoid_derivative(self, x):\n",
    "        return x*(1-x)\n",
    "    \n",
    "    def train(self, training_inputs, training_outputs, training_iterations):\n",
    "        \n",
    "        for iteration in range(training_iterations):\n",
    "            \n",
    "            #send the training data via the neuron\n",
    "            output = self.think(training_inputs)\n",
    "            \n",
    "            #compute the error rate for back-propagation\n",
    "            error = training_outputs - output\n",
    "            \n",
    "            #performing weight adjustments\n",
    "            adjustments = np.dot(training_inputs.T, error * self.sigmoid_derivative(output))\n",
    "            \n",
    "            self.synaptic_weights += adjustments\n",
    "            \n",
    "            \n",
    "            \n",
    "            \n",
    "    def think(self, inputs):\n",
    "        \n",
    "        #passing the inputs via the neuron to get output\n",
    "        #converting values to floats\n",
    "        \n",
    "        inputs = inputs.astype(float)\n",
    "        output = self.sigmoid(np.dot(inputs, self.synaptic_weights))\n",
    "        return output\n",
    "        "
   ]
  },
  {
   "cell_type": "code",
   "execution_count": 7,
   "metadata": {},
   "outputs": [
    {
     "name": "stdout",
     "output_type": "stream",
     "text": [
      "Starting with randomly generated weights: \n",
      "[[-0.92287664]\n",
      " [ 0.56020092]]\n",
      "Ending Weights After Training: \n",
      "[[-0.39341318]\n",
      " [ 0.41361125]]\n"
     ]
    }
   ],
   "source": [
    "nn = Neural_Network()\n",
    "\n",
    "print(\"Starting with randomly generated weights: \")\n",
    "print(nn.synaptic_weights)\n",
    "\n",
    "training_inputs = np.array([[0,0],[0,1],[1,0],[1,1]])\n",
    "\n",
    "training_outputs = np.array([[0,0,0,1]]).T\n",
    "\n",
    "#training taking place\n",
    "nn.train(training_inputs, training_outputs, 10)\n",
    "\n",
    "print(\"Ending Weights After Training: \")\n",
    "print(nn.synaptic_weights)"
   ]
  },
  {
   "cell_type": "code",
   "execution_count": null,
   "metadata": {},
   "outputs": [],
   "source": []
  }
 ],
 "metadata": {
  "kernelspec": {
   "display_name": "Python 3",
   "language": "python",
   "name": "python3"
  },
  "language_info": {
   "codemirror_mode": {
    "name": "ipython",
    "version": 3
   },
   "file_extension": ".py",
   "mimetype": "text/x-python",
   "name": "python",
   "nbconvert_exporter": "python",
   "pygments_lexer": "ipython3",
   "version": "3.5.3"
  }
 },
 "nbformat": 4,
 "nbformat_minor": 2
}
