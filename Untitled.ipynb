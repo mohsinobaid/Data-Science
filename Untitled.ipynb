{
 "cells": [
  {
   "cell_type": "markdown",
   "metadata": {},
   "source": [
    "# Data Science\n",
    "\n",
    "## Statistics Recap\n",
    "\n"
   ]
  },
  {
   "cell_type": "code",
   "execution_count": 1,
   "metadata": {},
   "outputs": [],
   "source": [
    "import numpy as np"
   ]
  },
  {
   "cell_type": "code",
   "execution_count": 2,
   "metadata": {},
   "outputs": [
    {
     "name": "stdout",
     "output_type": "stream",
     "text": [
      "whatever\n"
     ]
    }
   ],
   "source": [
    "print(\"whatever\")"
   ]
  },
  {
   "cell_type": "markdown",
   "metadata": {},
   "source": [
    "### Distributions\n",
    "\n",
    "#### Binomial Distribution\n",
    "The probability of getting exactly k successes in n trials is given by the probability mass function.\n",
    "\n",
    "#### Geometric Distribution\n",
    "\n",
    "#### Poisson Distribution\n",
    "The Poisson distribution is popular for modelling the number of times an event occurs in an interval of time or space.\n",
    "\n",
    "#### Uniform Distribution\n",
    "\n",
    "\n",
    "#### Exponential Distribution\n",
    "The probability distribution that describes the time between events in a Poisson point process, i.e., a processin which events occur continuously and independently at a constant average rate.\n",
    "\n",
    "#### Normal Distribution\n",
    "They state that averages of samples of observations of random variables independently drawn from independent distributions converge in distribution to the normal, that is, become normally distributed when the number of observations is sufficiently large.\n",
    "\n",
    "#### Pareto Distribution\n",
    "It is the power-law probability distribution that is used in description of social, scientific, geophysical, actuarial, and many other types of observable phenomena.\n"
   ]
  },
  {
   "cell_type": "markdown",
   "metadata": {},
   "source": []
  }
 ],
 "metadata": {
  "kernelspec": {
   "display_name": "Python 3",
   "language": "python",
   "name": "python3"
  },
  "language_info": {
   "codemirror_mode": {
    "name": "ipython",
    "version": 3
   },
   "file_extension": ".py",
   "mimetype": "text/x-python",
   "name": "python",
   "nbconvert_exporter": "python",
   "pygments_lexer": "ipython3",
   "version": "3.5.3"
  }
 },
 "nbformat": 4,
 "nbformat_minor": 2
}
